{
 "cells": [
  {
   "cell_type": "code",
   "execution_count": 3,
   "metadata": {},
   "outputs": [
    {
     "ename": "SyntaxError",
     "evalue": "invalid syntax (<ipython-input-3-c0e0396d2454>, line 20)",
     "output_type": "error",
     "traceback": [
      "\u001b[1;36m  File \u001b[1;32m\"<ipython-input-3-c0e0396d2454>\"\u001b[1;36m, line \u001b[1;32m20\u001b[0m\n\u001b[1;33m    except psycopg2.DatabaseError e:\u001b[0m\n\u001b[1;37m                                  ^\u001b[0m\n\u001b[1;31mSyntaxError\u001b[0m\u001b[1;31m:\u001b[0m invalid syntax\n"
     ]
    }
   ],
   "source": [
    "#!/usr/bin/python\n",
    "# -*- coding: utf-8 -*-\n",
    " \n",
    "import psycopg2\n",
    "import sys\n",
    " \n",
    " \n",
    "con = None\n",
    " \n",
    "try:\n",
    "    con = psycopg2.connect(\"host='localhost' dbname='testdb' user='pythonspot' password='password'\")   \n",
    "    cur = con.cursor()\n",
    "    cur.execute(\"CREATE TABLE Products(Id INTEGER PRIMARY KEY, Name VARCHAR(20), Price INT)\")\n",
    "    cur.execute(\"INSERT INTO Products VALUES(1,'Milk',5)\")\n",
    "    cur.execute(\"INSERT INTO Products VALUES(2,'Sugar',7)\")\n",
    "    cur.execute(\"INSERT INTO Products VALUES(3,'Coffee',3)\")\n",
    "    cur.execute(\"INSERT INTO Products VALUES(4,'Bread',5)\")\n",
    "    cur.execute(\"INSERT INTO Products VALUES(5,'Oranges',3)\")\n",
    "    con.commit()\n",
    "except psycopg2.DatabaseError, e:\n",
    "    if con:\n",
    "        con.rollback()\n",
    " \n",
    "    print 'Error %s' % e    \n",
    "    sys.exit(1)\n",
    " \n",
    "finally:   \n",
    "    if con:\n",
    "        con.close()"
   ]
  },
  {
   "cell_type": "code",
   "execution_count": null,
   "metadata": {
    "collapsed": true
   },
   "outputs": [],
   "source": []
  }
 ],
 "metadata": {
  "kernelspec": {
   "display_name": "Python 3",
   "language": "python",
   "name": "python3"
  },
  "language_info": {
   "codemirror_mode": {
    "name": "ipython",
    "version": 3
   },
   "file_extension": ".py",
   "mimetype": "text/x-python",
   "name": "python",
   "nbconvert_exporter": "python",
   "pygments_lexer": "ipython3",
   "version": "3.6.2"
  }
 },
 "nbformat": 4,
 "nbformat_minor": 2
}
